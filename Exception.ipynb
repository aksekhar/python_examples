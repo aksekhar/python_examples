{
 "cells": [
  {
   "cell_type": "code",
   "execution_count": 2,
   "metadata": {},
   "outputs": [
    {
     "name": "stdout",
     "output_type": "stream",
     "text": [
      "110\n"
     ]
    }
   ],
   "source": [
    "try:\n",
    "    a =10\n",
    "    b= 100\n",
    "    num = a + b\n",
    "except:\n",
    "    print(f'please add correct number a = {a} b = {b}')\n",
    "else:\n",
    "    print (num)"
   ]
  },
  {
   "cell_type": "code",
   "execution_count": 16,
   "metadata": {},
   "outputs": [
    {
     "name": "stdout",
     "output_type": "stream",
     "text": [
      "you have other errror\n",
      "I always run\n"
     ]
    }
   ],
   "source": [
    "try:\n",
    "    f = open('textfile','r')\n",
    "    f.write(\"Text line \")\n",
    "except: \n",
    "     print('you have other errror')\n",
    "finally:\n",
    "    print('I always run')\n",
    "\n",
    "    "
   ]
  },
  {
   "cell_type": "code",
   "execution_count": null,
   "metadata": {},
   "outputs": [],
   "source": [
    "while True:\n",
    "    try:\n",
    "        A = int(input('Enter a number for A:'))\n",
    "    except:\n",
    "        Print('wrong number')\n",
    "        continue\n",
    "    else:\n",
    "        print('Thansk for number'+A)\n",
    "        break\n",
    "    finally:\n",
    "        print('I run at end')\n",
    "        \n"
   ]
  },
  {
   "cell_type": "code",
   "execution_count": 8,
   "metadata": {},
   "outputs": [
    {
     "name": "stdout",
     "output_type": "stream",
     "text": [
      "type error\n",
      "I'm done\n"
     ]
    }
   ],
   "source": [
    "#Home work\n",
    "try:\n",
    "    for i in ['a','b','c']:\n",
    "         print(i**2)\n",
    "except TypeError:\n",
    "    print('type error')\n",
    "except:\n",
    "    print('other error')\n",
    "finally:\n",
    "    print(\"I'm done\")\n",
    "    \n"
   ]
  },
  {
   "cell_type": "code",
   "execution_count": 11,
   "metadata": {},
   "outputs": [
    {
     "name": "stdout",
     "output_type": "stream",
     "text": [
      "ZeroDivisionError\n",
      "All Done\n"
     ]
    }
   ],
   "source": [
    "'''\n",
    "EXAMPLE\n",
    "'''\n",
    "try:\n",
    "    x = 199\n",
    "    y = 0\n",
    "    z = x/y\n",
    "except ZeroDivisionError:\n",
    "    print('ZeroDivisionError')\n",
    "except:\n",
    "    print('Other Error')\n",
    "finally:\n",
    "    print('All Done')"
   ]
  },
  {
   "cell_type": "code",
   "execution_count": null,
   "metadata": {},
   "outputs": [],
   "source": []
  }
 ],
 "metadata": {
  "kernelspec": {
   "display_name": "Python 3",
   "language": "python",
   "name": "python3"
  }
 },
 "nbformat": 4,
 "nbformat_minor": 2
}
