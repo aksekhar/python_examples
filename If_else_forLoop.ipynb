{
 "cells": [
  {
   "cell_type": "code",
   "execution_count": 6,
   "metadata": {},
   "outputs": [
    {
     "name": "stdout",
     "output_type": "stream",
     "text": [
      "not listed\n"
     ]
    }
   ],
   "source": [
    "state_code ='MP'\n",
    "if state_code =='KA':\n",
    "    print ('Karnataka')\n",
    "elif state_code =='OD':\n",
    "     print ('Odisha')\n",
    "elif state_code =='UP':\n",
    "     print ('Utar Pradesh')\n",
    "else:\n",
    "    print('not listed')\n"
   ]
  },
  {
   "cell_type": "code",
   "execution_count": 22,
   "metadata": {},
   "outputs": [],
   "source": [
    "myList = [1,2,3,4,5,6,7,8,9,10]\n",
    "lsit_sum = 0\n",
    "\n"
   ]
  },
  {
   "cell_type": "code",
   "execution_count": 17,
   "metadata": {},
   "outputs": [
    {
     "name": "stdout",
     "output_type": "stream",
     "text": [
      "1 is odd number\n",
      "2 is even number\n",
      "3 is odd number\n",
      "4 is even number\n",
      "5 is odd number\n",
      "6 is even number\n",
      "7 is odd number\n",
      "8 is even number\n",
      "9 is odd number\n",
      "10 is even number\n"
     ]
    }
   ],
   "source": [
    "for i in myList:\n",
    "    if i%2 == 0:\n",
    "            print(f'{i} is even number')\n",
    "    else:\n",
    "            print(f'{i} is odd number')\n",
    "\n",
    "\n",
    "\n"
   ]
  },
  {
   "cell_type": "code",
   "execution_count": 29,
   "metadata": {},
   "outputs": [
    {
     "name": "stdout",
     "output_type": "stream",
     "text": [
      "55\n"
     ]
    }
   ],
   "source": [
    "v = 0\n",
    "for i in myList:\n",
    "        v = v+i\n",
    "print(v)\n",
    "\n"
   ]
  },
  {
   "cell_type": "code",
   "execution_count": 46,
   "metadata": {},
   "outputs": [],
   "source": [
    "tpList = [('Lipa','Linku'),('Linku','Mamun'),('Lipa','Mamun')]"
   ]
  },
  {
   "cell_type": "code",
   "execution_count": 33,
   "metadata": {},
   "outputs": [
    {
     "name": "stdout",
     "output_type": "stream",
     "text": [
      "Lipa\n",
      "Linku\n",
      "Lipa\n",
      "Mamun\n",
      "Linku\n",
      "Mamun\n",
      "Mamun\n",
      "Lipa\n",
      "Mamun\n"
     ]
    }
   ],
   "source": [
    "for tp in tpList:\n",
    "    print(tp)\n",
    "    for per in tp:\n",
    "        print(per)"
   ]
  },
  {
   "cell_type": "code",
   "execution_count": 44,
   "metadata": {},
   "outputs": [
    {
     "name": "stdout",
     "output_type": "stream",
     "text": [
      "Linku is spouse of Lipa\n",
      "Linku is parent of Mamun\n",
      "Lipa is parent of Mamun\n"
     ]
    }
   ],
   "source": [
    "for tp in tpList:\n",
    "    if tp[1]=='Mamun':\n",
    "                print(f'{tp[0]} is parent of {tp[1]}')\n",
    "    else:\n",
    "        print(f'{tp[0]} is spouse of {tp[1]}')\n",
    "    "
   ]
  },
  {
   "cell_type": "code",
   "execution_count": 48,
   "metadata": {},
   "outputs": [
    {
     "name": "stdout",
     "output_type": "stream",
     "text": [
      "Lipa is spouse of Linku\n",
      "Linku is parent of Mamun\n",
      "Lipa is parent of Mamun\n"
     ]
    }
   ],
   "source": [
    "for a,b in tpList:\n",
    "    if b=='Mamun':\n",
    "                print(f'{a} is parent of {b}')\n",
    "    else:\n",
    "        print(f'{a} is spouse of {b}')"
   ]
  },
  {
   "cell_type": "code",
   "execution_count": 51,
   "metadata": {},
   "outputs": [],
   "source": [
    "myDict = {'f1':'Linku','f2':'Lipa','f3':'Mamun'}"
   ]
  },
  {
   "cell_type": "code",
   "execution_count": 52,
   "metadata": {},
   "outputs": [
    {
     "name": "stdout",
     "output_type": "stream",
     "text": [
      "f1\n",
      "f2\n",
      "f3\n"
     ]
    }
   ],
   "source": [
    "for i in myDict:\n",
    "    print(i)"
   ]
  },
  {
   "cell_type": "code",
   "execution_count": 53,
   "metadata": {},
   "outputs": [
    {
     "name": "stdout",
     "output_type": "stream",
     "text": [
      "f1 Linku\n",
      "f2 Lipa\n",
      "f3 Mamun\n"
     ]
    }
   ],
   "source": [
    "for k,v in myDict.items():\n",
    "        print(f'{k} {v}')\n"
   ]
  },
  {
   "cell_type": "code",
   "execution_count": 56,
   "metadata": {},
   "outputs": [
    {
     "name": "stdout",
     "output_type": "stream",
     "text": [
      "f1 \n",
      "f2 \n",
      "f3 \n"
     ]
    }
   ],
   "source": [
    "for k in myDict.keys():\n",
    "        print(f'{k} ')"
   ]
  },
  {
   "cell_type": "code",
   "execution_count": 57,
   "metadata": {},
   "outputs": [
    {
     "name": "stdout",
     "output_type": "stream",
     "text": [
      "Linku \n",
      "Lipa \n",
      "Mamun \n"
     ]
    }
   ],
   "source": [
    "for v in myDict.values():\n",
    "        print(f'{v} ')"
   ]
  },
  {
   "cell_type": "code",
   "execution_count": 59,
   "metadata": {},
   "outputs": [],
   "source": [
    "x = 10"
   ]
  },
  {
   "cell_type": "code",
   "execution_count": 61,
   "metadata": {},
   "outputs": [],
   "source": [
    "while (x <= 5):\n",
    "    print(x)"
   ]
  },
  {
   "cell_type": "code",
   "execution_count": null,
   "metadata": {},
   "outputs": [],
   "source": []
  }
 ],
 "metadata": {
  "kernelspec": {
   "display_name": "Python 3",
   "language": "python",
   "name": "python3"
  },
  "language_info": {
   "codemirror_mode": {
    "name": "ipython",
    "version": 3
   },
   "file_extension": ".py",
   "mimetype": "text/x-python",
   "name": "python",
   "nbconvert_exporter": "python",
   "pygments_lexer": "ipython3",
   "version": "3.7.3"
  }
 },
 "nbformat": 4,
 "nbformat_minor": 2
}
