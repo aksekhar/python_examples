{
 "cells": [
  {
   "cell_type": "code",
   "execution_count": 1,
   "metadata": {},
   "outputs": [],
   "source": [
    "import numpy as np\n",
    "import matplotlib as plt\n",
    "%matplotlib inline"
   ]
  },
  {
   "cell_type": "code",
   "execution_count": 23,
   "metadata": {},
   "outputs": [],
   "source": [
    "r = np.random.randint(16,size=8)"
   ]
  },
  {
   "cell_type": "code",
   "execution_count": 20,
   "metadata": {},
   "outputs": [
    {
     "data": {
      "text/plain": [
       "[4, 2, 0, 2, 7, 4, 8, 5]"
      ]
     },
     "execution_count": 20,
     "metadata": {},
     "output_type": "execute_result"
    }
   ],
   "source": [
    "r"
   ]
  },
  {
   "cell_type": "code",
   "execution_count": 21,
   "metadata": {},
   "outputs": [],
   "source": [
    "#help(np.random.randint)"
   ]
  },
  {
   "cell_type": "code",
   "execution_count": 24,
   "metadata": {},
   "outputs": [
    {
     "data": {
      "text/plain": [
       "5.75"
      ]
     },
     "execution_count": 24,
     "metadata": {},
     "output_type": "execute_result"
    }
   ],
   "source": [
    "np.mean(r)"
   ]
  },
  {
   "cell_type": "code",
   "execution_count": 25,
   "metadata": {},
   "outputs": [],
   "source": [
    "r.sort()"
   ]
  },
  {
   "cell_type": "code",
   "execution_count": 26,
   "metadata": {},
   "outputs": [
    {
     "data": {
      "text/plain": [
       "array([ 1,  1,  4,  6,  7,  8,  9, 10])"
      ]
     },
     "execution_count": 26,
     "metadata": {},
     "output_type": "execute_result"
    }
   ],
   "source": [
    "r"
   ]
  },
  {
   "cell_type": "code",
   "execution_count": 27,
   "metadata": {},
   "outputs": [
    {
     "data": {
      "text/plain": [
       "6.5"
      ]
     },
     "execution_count": 27,
     "metadata": {},
     "output_type": "execute_result"
    }
   ],
   "source": [
    "np.median(r)"
   ]
  },
  {
   "cell_type": "code",
   "execution_count": 28,
   "metadata": {},
   "outputs": [],
   "source": [
    "from statistics import mode"
   ]
  },
  {
   "cell_type": "code",
   "execution_count": 29,
   "metadata": {},
   "outputs": [
    {
     "data": {
      "text/plain": [
       "1"
      ]
     },
     "execution_count": 29,
     "metadata": {},
     "output_type": "execute_result"
    }
   ],
   "source": [
    "mode(r)"
   ]
  },
  {
   "cell_type": "code",
   "execution_count": 31,
   "metadata": {},
   "outputs": [
    {
     "name": "stdout",
     "output_type": "stream",
     "text": [
      "Help on built-in function random_integers:\n",
      "\n",
      "random_integers(...) method of mtrand.RandomState instance\n",
      "    random_integers(low, high=None, size=None)\n",
      "    \n",
      "    Random integers of type np.int between `low` and `high`, inclusive.\n",
      "    \n",
      "    Return random integers of type np.int from the \"discrete uniform\"\n",
      "    distribution in the closed interval [`low`, `high`].  If `high` is\n",
      "    None (the default), then results are from [1, `low`]. The np.int\n",
      "    type translates to the C long type used by Python 2 for \"short\"\n",
      "    integers and its precision is platform dependent.\n",
      "    \n",
      "    This function has been deprecated. Use randint instead.\n",
      "    \n",
      "    .. deprecated:: 1.11.0\n",
      "    \n",
      "    Parameters\n",
      "    ----------\n",
      "    low : int\n",
      "        Lowest (signed) integer to be drawn from the distribution (unless\n",
      "        ``high=None``, in which case this parameter is the *highest* such\n",
      "        integer).\n",
      "    high : int, optional\n",
      "        If provided, the largest (signed) integer to be drawn from the\n",
      "        distribution (see above for behavior if ``high=None``).\n",
      "    size : int or tuple of ints, optional\n",
      "        Output shape.  If the given shape is, e.g., ``(m, n, k)``, then\n",
      "        ``m * n * k`` samples are drawn.  Default is None, in which case a\n",
      "        single value is returned.\n",
      "    \n",
      "    Returns\n",
      "    -------\n",
      "    out : int or ndarray of ints\n",
      "        `size`-shaped array of random integers from the appropriate\n",
      "        distribution, or a single such random int if `size` not provided.\n",
      "    \n",
      "    See Also\n",
      "    --------\n",
      "    randint : Similar to `random_integers`, only for the half-open\n",
      "        interval [`low`, `high`), and 0 is the lowest value if `high` is\n",
      "        omitted.\n",
      "    \n",
      "    Notes\n",
      "    -----\n",
      "    To sample from N evenly spaced floating-point numbers between a and b,\n",
      "    use::\n",
      "    \n",
      "      a + (b - a) * (np.random.random_integers(N) - 1) / (N - 1.)\n",
      "    \n",
      "    Examples\n",
      "    --------\n",
      "    >>> np.random.random_integers(5)\n",
      "    4\n",
      "    >>> type(np.random.random_integers(5))\n",
      "    <type 'int'>\n",
      "    >>> np.random.random_integers(5, size=(3,2))\n",
      "    array([[5, 4],\n",
      "           [3, 3],\n",
      "           [4, 5]])\n",
      "    \n",
      "    Choose five random numbers from the set of five evenly-spaced\n",
      "    numbers between 0 and 2.5, inclusive (*i.e.*, from the set\n",
      "    :math:`{0, 5/8, 10/8, 15/8, 20/8}`):\n",
      "    \n",
      "    >>> 2.5 * (np.random.random_integers(5, size=(5,)) - 1) / 4.\n",
      "    array([ 0.625,  1.25 ,  0.625,  0.625,  2.5  ])\n",
      "    \n",
      "    Roll two six sided dice 1000 times and sum the results:\n",
      "    \n",
      "    >>> d1 = np.random.random_integers(1, 6, 1000)\n",
      "    >>> d2 = np.random.random_integers(1, 6, 1000)\n",
      "    >>> dsums = d1 + d2\n",
      "    \n",
      "    Display results as a histogram:\n",
      "    \n",
      "    >>> import matplotlib.pyplot as plt\n",
      "    >>> count, bins, ignored = plt.hist(dsums, 11, density=True)\n",
      "    >>> plt.show()\n",
      "\n"
     ]
    }
   ],
   "source": [
    "help(np.random.random_integers)"
   ]
  },
  {
   "cell_type": "code",
   "execution_count": 75,
   "metadata": {},
   "outputs": [],
   "source": [
    "population = np.random.randint(10,99,118)\n"
   ]
  },
  {
   "cell_type": "code",
   "execution_count": 76,
   "metadata": {},
   "outputs": [],
   "source": [
    "population.sort()"
   ]
  },
  {
   "cell_type": "code",
   "execution_count": 77,
   "metadata": {},
   "outputs": [
    {
     "name": "stdout",
     "output_type": "stream",
     "text": [
      "[12 12 12 14 14 15 15 16 16 19 19 20 21 22 22 22 22 23 24 24 24 25 25 25\n",
      " 25 25 26 27 27 29 30 30 31 32 33 34 35 36 36 37 37 37 38 39 40 40 45 46\n",
      " 46 46 47 49 50 51 52 54 54 54 55 56 57 57 58 58 58 58 59 60 61 62 63 63\n",
      " 65 65 65 65 65 65 66 66 67 69 69 69 70 70 72 73 73 73 74 74 74 74 74 75\n",
      " 76 76 77 78 80 81 81 83 86 87 87 87 90 90 90 91 95 96 96 97 97 98]\n"
     ]
    }
   ],
   "source": [
    "print(population)"
   ]
  },
  {
   "cell_type": "code",
   "execution_count": 78,
   "metadata": {},
   "outputs": [
    {
     "data": {
      "text/plain": [
       "52.516949152542374"
      ]
     },
     "execution_count": 78,
     "metadata": {},
     "output_type": "execute_result"
    }
   ],
   "source": [
    "np.mean(population)"
   ]
  },
  {
   "cell_type": "code",
   "execution_count": 79,
   "metadata": {},
   "outputs": [
    {
     "data": {
      "text/plain": [
       "55.5"
      ]
     },
     "execution_count": 79,
     "metadata": {},
     "output_type": "execute_result"
    }
   ],
   "source": [
    "np.median(population)"
   ]
  },
  {
   "cell_type": "code",
   "execution_count": 80,
   "metadata": {},
   "outputs": [
    {
     "data": {
      "text/plain": [
       "65"
      ]
     },
     "execution_count": 80,
     "metadata": {},
     "output_type": "execute_result"
    }
   ],
   "source": [
    "mode(population)"
   ]
  },
  {
   "cell_type": "code",
   "execution_count": 88,
   "metadata": {},
   "outputs": [
    {
     "data": {
      "text/plain": [
       "array([15, 74, 87, 70, 30, 97, 24, 77, 16, 30, 87, 50, 36, 46, 70, 75, 70])"
      ]
     },
     "execution_count": 88,
     "metadata": {},
     "output_type": "execute_result"
    }
   ],
   "source": [
    "sample=np.random.choice(population,17)\n",
    "sample"
   ]
  },
  {
   "cell_type": "code",
   "execution_count": 92,
   "metadata": {},
   "outputs": [
    {
     "name": "stdout",
     "output_type": "stream",
     "text": [
      "56.11764705882353\n",
      "70.0\n",
      "70\n"
     ]
    }
   ],
   "source": [
    "print(np.mean(sample))\n",
    "print(np.median(sample))\n",
    "print(mode(sample))"
   ]
  },
  {
   "cell_type": "code",
   "execution_count": 97,
   "metadata": {},
   "outputs": [],
   "source": [
    "sample1=np.random.choice(population,15)\n",
    "sample2=np.random.choice(population,15)\n",
    "sample3=np.random.choice(population,15)\n",
    "sample4=np.random.choice(population,15)"
   ]
  },
  {
   "cell_type": "code",
   "execution_count": 98,
   "metadata": {},
   "outputs": [],
   "source": [
    "l = [sample1,sample2,sample3,sample4]"
   ]
  },
  {
   "cell_type": "code",
   "execution_count": 99,
   "metadata": {},
   "outputs": [
    {
     "data": {
      "text/plain": [
       "[array([69, 27, 77, 36, 59, 15, 96, 90, 27, 69, 37, 57, 74, 46, 32]),\n",
       " array([16, 57, 16, 54, 70, 74, 46, 24, 58, 91, 81, 16, 62, 76, 87]),\n",
       " array([21, 46, 58, 76, 46, 65, 46, 76, 52, 72, 87, 58, 60, 77, 22]),\n",
       " array([78, 65, 58, 56, 32, 33, 37, 16, 30, 76, 22, 76, 63, 65, 36])]"
      ]
     },
     "execution_count": 99,
     "metadata": {},
     "output_type": "execute_result"
    }
   ],
   "source": [
    "l"
   ]
  },
  {
   "cell_type": "code",
   "execution_count": 106,
   "metadata": {},
   "outputs": [
    {
     "name": "stdout",
     "output_type": "stream",
     "text": [
      "[69 27 77 36 59 15 96 90 27 69 37 57 74 46 32]\n",
      "54.06666666666667\n",
      "57.0\n",
      "[16 57 16 54 70 74 46 24 58 91 81 16 62 76 87]\n",
      "55.2\n",
      "58.0\n",
      "[21 46 58 76 46 65 46 76 52 72 87 58 60 77 22]\n",
      "57.46666666666667\n",
      "58.0\n",
      "[78 65 58 56 32 33 37 16 30 76 22 76 63 65 36]\n",
      "49.53333333333333\n",
      "56.0\n"
     ]
    }
   ],
   "source": [
    "for i in l:\n",
    "    print(i)\n",
    "    a=np.mean(i)\n",
    "    b=np.median(i)\n",
    "    print(a)\n",
    "    print(b)\n",
    "    #mode(i)"
   ]
  },
  {
   "cell_type": "code",
   "execution_count": 109,
   "metadata": {},
   "outputs": [
    {
     "data": {
      "text/plain": [
       "[54.06666666666667, 55.2, 57.46666666666667, 49.53333333333333]"
      ]
     },
     "execution_count": 109,
     "metadata": {},
     "output_type": "execute_result"
    }
   ],
   "source": [
    "combine_sample=[]\n",
    "for i in l:\n",
    "    combine_sample.append(np.mean(i))\n",
    "\n",
    "combine_sample"
   ]
  },
  {
   "cell_type": "code",
   "execution_count": 112,
   "metadata": {},
   "outputs": [],
   "source": [
    "num =np.random.randn(40)"
   ]
  },
  {
   "cell_type": "code",
   "execution_count": 113,
   "metadata": {},
   "outputs": [
    {
     "data": {
      "text/plain": [
       "array([ 1.35189969,  0.22456517,  2.19598252,  1.20738731,  0.69837117,\n",
       "        0.08958075, -0.19154187,  0.99416863,  0.06035372, -2.97075664,\n",
       "       -0.11955268, -0.47169125, -0.29642629, -1.66128995,  1.16227192,\n",
       "       -0.15240389, -0.63765831,  0.57676458,  0.50369064,  0.96853774,\n",
       "       -0.3823411 , -1.47947983,  0.54413881, -1.46311368, -1.80147208,\n",
       "       -1.03752163,  0.88489633,  0.71592515,  1.50531716, -0.24247938,\n",
       "        0.08226733,  0.64845356,  1.18709682, -0.54246092, -0.60611958,\n",
       "        1.76420635,  2.24207292,  0.40957074,  0.39843437,  0.77456271])"
      ]
     },
     "execution_count": 113,
     "metadata": {},
     "output_type": "execute_result"
    }
   ],
   "source": [
    "num"
   ]
  },
  {
   "cell_type": "code",
   "execution_count": 114,
   "metadata": {},
   "outputs": [],
   "source": [
    "range=max(num)-min(num)"
   ]
  },
  {
   "cell_type": "code",
   "execution_count": 115,
   "metadata": {},
   "outputs": [
    {
     "data": {
      "text/plain": [
       "5.212829563807034"
      ]
     },
     "execution_count": 115,
     "metadata": {},
     "output_type": "execute_result"
    }
   ],
   "source": [
    "range"
   ]
  },
  {
   "cell_type": "code",
   "execution_count": 119,
   "metadata": {},
   "outputs": [],
   "source": [
    "Q1 = np.percentile(num,75)\n",
    "Q2 = np.percentile(num,50)\n",
    "Q3 = np.percentile(num,75)"
   ]
  },
  {
   "cell_type": "code",
   "execution_count": 122,
   "metadata": {},
   "outputs": [],
   "source": [
    "Q=Q3-Q1"
   ]
  },
  {
   "cell_type": "code",
   "execution_count": 123,
   "metadata": {},
   "outputs": [
    {
     "data": {
      "text/plain": [
       "0.0"
      ]
     },
     "execution_count": 123,
     "metadata": {},
     "output_type": "execute_result"
    }
   ],
   "source": [
    "Q"
   ]
  },
  {
   "cell_type": "code",
   "execution_count": 126,
   "metadata": {},
   "outputs": [
    {
     "data": {
      "text/plain": [
       "609.3005601838552"
      ]
     },
     "execution_count": 126,
     "metadata": {},
     "output_type": "execute_result"
    }
   ],
   "source": [
    "np.var(population)"
   ]
  },
  {
   "cell_type": "code",
   "execution_count": 127,
   "metadata": {},
   "outputs": [
    {
     "data": {
      "text/plain": [
       "677.0449826989618"
      ]
     },
     "execution_count": 127,
     "metadata": {},
     "output_type": "execute_result"
    }
   ],
   "source": [
    "np.var(sample)"
   ]
  },
  {
   "cell_type": "code",
   "execution_count": null,
   "metadata": {},
   "outputs": [],
   "source": []
  }
 ],
 "metadata": {
  "kernelspec": {
   "display_name": "Python 3",
   "language": "python",
   "name": "python3"
  },
  "language_info": {
   "codemirror_mode": {
    "name": "ipython",
    "version": 3
   },
   "file_extension": ".py",
   "mimetype": "text/x-python",
   "name": "python",
   "nbconvert_exporter": "python",
   "pygments_lexer": "ipython3",
   "version": "3.7.3"
  }
 },
 "nbformat": 4,
 "nbformat_minor": 2
}
